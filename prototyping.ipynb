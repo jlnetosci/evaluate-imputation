{
 "cells": [
  {
   "cell_type": "code",
   "execution_count": 1,
   "metadata": {},
   "outputs": [],
   "source": [
    "import pandas as pd\n",
    "import numpy as np\n",
    "from sklearn.preprocessing import StandardScaler\n",
    "from sklearn.neighbors import NearestNeighbors"
   ]
  },
  {
   "cell_type": "code",
   "execution_count": 4,
   "metadata": {},
   "outputs": [
    {
     "data": {
      "text/html": [
       "<div>\n",
       "<style scoped>\n",
       "    .dataframe tbody tr th:only-of-type {\n",
       "        vertical-align: middle;\n",
       "    }\n",
       "\n",
       "    .dataframe tbody tr th {\n",
       "        vertical-align: top;\n",
       "    }\n",
       "\n",
       "    .dataframe thead th {\n",
       "        text-align: right;\n",
       "    }\n",
       "</style>\n",
       "<table border=\"1\" class=\"dataframe\">\n",
       "  <thead>\n",
       "    <tr style=\"text-align: right;\">\n",
       "      <th></th>\n",
       "      <th>Feature1</th>\n",
       "      <th>Feature2</th>\n",
       "      <th>Feature3</th>\n",
       "      <th>Feature4</th>\n",
       "      <th>Category</th>\n",
       "    </tr>\n",
       "  </thead>\n",
       "  <tbody>\n",
       "    <tr>\n",
       "      <th>0</th>\n",
       "      <td>1.5</td>\n",
       "      <td>3.2</td>\n",
       "      <td>5.1</td>\n",
       "      <td>6.5</td>\n",
       "      <td>1</td>\n",
       "    </tr>\n",
       "    <tr>\n",
       "      <th>1</th>\n",
       "      <td>2.0</td>\n",
       "      <td>2.5</td>\n",
       "      <td>4.9</td>\n",
       "      <td>6.7</td>\n",
       "      <td>2</td>\n",
       "    </tr>\n",
       "    <tr>\n",
       "      <th>2</th>\n",
       "      <td>1.8</td>\n",
       "      <td>NaN</td>\n",
       "      <td>5.3</td>\n",
       "      <td>NaN</td>\n",
       "      <td>3</td>\n",
       "    </tr>\n",
       "    <tr>\n",
       "      <th>3</th>\n",
       "      <td>NaN</td>\n",
       "      <td>2.9</td>\n",
       "      <td>4.7</td>\n",
       "      <td>6.4</td>\n",
       "      <td>2</td>\n",
       "    </tr>\n",
       "    <tr>\n",
       "      <th>4</th>\n",
       "      <td>2.2</td>\n",
       "      <td>3.6</td>\n",
       "      <td>5.0</td>\n",
       "      <td>6.1</td>\n",
       "      <td>1</td>\n",
       "    </tr>\n",
       "    <tr>\n",
       "      <th>5</th>\n",
       "      <td>3.7</td>\n",
       "      <td>4.2</td>\n",
       "      <td>5.2</td>\n",
       "      <td>7.0</td>\n",
       "      <td>2</td>\n",
       "    </tr>\n",
       "    <tr>\n",
       "      <th>6</th>\n",
       "      <td>4.1</td>\n",
       "      <td>4.8</td>\n",
       "      <td>6.2</td>\n",
       "      <td>6.1</td>\n",
       "      <td>3</td>\n",
       "    </tr>\n",
       "    <tr>\n",
       "      <th>7</th>\n",
       "      <td>4.3</td>\n",
       "      <td>4.4</td>\n",
       "      <td>6.9</td>\n",
       "      <td>7.2</td>\n",
       "      <td>1</td>\n",
       "    </tr>\n",
       "    <tr>\n",
       "      <th>8</th>\n",
       "      <td>3.3</td>\n",
       "      <td>4.7</td>\n",
       "      <td>5.8</td>\n",
       "      <td>7.5</td>\n",
       "      <td>2</td>\n",
       "    </tr>\n",
       "    <tr>\n",
       "      <th>9</th>\n",
       "      <td>3.9</td>\n",
       "      <td>4.6</td>\n",
       "      <td>6.0</td>\n",
       "      <td>6.9</td>\n",
       "      <td>3</td>\n",
       "    </tr>\n",
       "  </tbody>\n",
       "</table>\n",
       "</div>"
      ],
      "text/plain": [
       "   Feature1  Feature2  Feature3  Feature4  Category\n",
       "0       1.5       3.2       5.1       6.5         1\n",
       "1       2.0       2.5       4.9       6.7         2\n",
       "2       1.8       NaN       5.3       NaN         3\n",
       "3       NaN       2.9       4.7       6.4         2\n",
       "4       2.2       3.6       5.0       6.1         1\n",
       "5       3.7       4.2       5.2       7.0         2\n",
       "6       4.1       4.8       6.2       6.1         3\n",
       "7       4.3       4.4       6.9       7.2         1\n",
       "8       3.3       4.7       5.8       7.5         2\n",
       "9       3.9       4.6       6.0       6.9         3"
      ]
     },
     "execution_count": 4,
     "metadata": {},
     "output_type": "execute_result"
    }
   ],
   "source": [
    "# Create the dataframe\n",
    "# data = {\n",
    "#    'Feature1': [1.5, 2.0, 1.8, np.nan, 2.2],\n",
    "#    'Feature2': [3.2, 2.1, 2.5, 2.9, 3.6],\n",
    "#    'Feature3': [5.1, 4.9, 5.3, 4.7, 5.0],\n",
    "#    'Feature4': [6.5, 6.7, np.nan, 6.4, 6.1],\n",
    "#    'Category': [1, 2, 3, 2, 1]\n",
    "# }\n",
    "\n",
    "# data = pd.DataFrame(data)\n",
    "\n",
    "import pandas as pd\n",
    "import numpy as np\n",
    "\n",
    "# Create the dataframe\n",
    "data = {\n",
    "    'Feature1': [1.5, 2.0, 1.8, np.nan, 2.2, 3.7, 4.1, 4.3, 3.3, 3.9],\n",
    "    'Feature2': [3.2, 2.5, np.nan, 2.9, 3.6, 4.2, 4.8, 4.4, 4.7, 4.6],\n",
    "    'Feature3': [5.1, 4.9, 5.3, 4.7, 5.0, 5.2, 6.2, 6.9, 5.8, 6.0],\n",
    "    'Feature4': [6.5, 6.7, np.nan, 6.4, 6.1, 7.0, 6.1, 7.2, 7.5, 6.9],\n",
    "    'Category': [1, 2, 3, 2, 1, 2, 3, 1, 2, 3]\n",
    "}\n",
    "\n",
    "data = pd.DataFrame(data)\n",
    "\n",
    "# Display the dataframe\n",
    "data"
   ]
  },
  {
   "cell_type": "code",
   "execution_count": 3,
   "metadata": {},
   "outputs": [],
   "source": [
    "def filter_missing(df, axis='rows'):\n",
    "    if axis == 'rows':\n",
    "        df = df.dropna(axis=0)\n",
    "        return df\n",
    "    elif axis == 'columns' or axis == \"cols\":\n",
    "        df = df.dropna(axis=1)    \n",
    "        return df\n",
    "    else:\n",
    "        raise ValueError(f\"Invalid axis option '{axis}'. Please choose 'rows' or 'columns'.\")\n",
    "\n",
    "def collect_missing(df):\n",
    "    df = df[df.isna().any(axis=1)]\n",
    "    return df\n",
    "\n",
    "def determine_missing_proportions(df):\n",
    "    f = []; p = []\n",
    "    for col in df.columns:\n",
    "        f.append(col)\n",
    "        p.append(df[col].isna().sum()/len(df))\n",
    "    d = dict(zip(f, p))\n",
    "    return(d)"
   ]
  },
  {
   "cell_type": "code",
   "execution_count": 11,
   "metadata": {},
   "outputs": [
    {
     "data": {
      "text/html": [
       "<div>\n",
       "<style scoped>\n",
       "    .dataframe tbody tr th:only-of-type {\n",
       "        vertical-align: middle;\n",
       "    }\n",
       "\n",
       "    .dataframe tbody tr th {\n",
       "        vertical-align: top;\n",
       "    }\n",
       "\n",
       "    .dataframe thead th {\n",
       "        text-align: right;\n",
       "    }\n",
       "</style>\n",
       "<table border=\"1\" class=\"dataframe\">\n",
       "  <thead>\n",
       "    <tr style=\"text-align: right;\">\n",
       "      <th></th>\n",
       "      <th>Feature1</th>\n",
       "      <th>Feature2</th>\n",
       "      <th>Feature3</th>\n",
       "      <th>Feature4</th>\n",
       "      <th>Category</th>\n",
       "    </tr>\n",
       "  </thead>\n",
       "  <tbody>\n",
       "    <tr>\n",
       "      <th>0</th>\n",
       "      <td>1.5</td>\n",
       "      <td>3.2</td>\n",
       "      <td>5.1</td>\n",
       "      <td>6.5</td>\n",
       "      <td>1</td>\n",
       "    </tr>\n",
       "    <tr>\n",
       "      <th>1</th>\n",
       "      <td>2.0</td>\n",
       "      <td>2.5</td>\n",
       "      <td>4.9</td>\n",
       "      <td>6.7</td>\n",
       "      <td>2</td>\n",
       "    </tr>\n",
       "    <tr>\n",
       "      <th>4</th>\n",
       "      <td>2.2</td>\n",
       "      <td>3.6</td>\n",
       "      <td>5.0</td>\n",
       "      <td>6.1</td>\n",
       "      <td>1</td>\n",
       "    </tr>\n",
       "    <tr>\n",
       "      <th>5</th>\n",
       "      <td>3.7</td>\n",
       "      <td>4.2</td>\n",
       "      <td>5.2</td>\n",
       "      <td>7.0</td>\n",
       "      <td>2</td>\n",
       "    </tr>\n",
       "    <tr>\n",
       "      <th>6</th>\n",
       "      <td>4.1</td>\n",
       "      <td>4.8</td>\n",
       "      <td>6.2</td>\n",
       "      <td>6.1</td>\n",
       "      <td>3</td>\n",
       "    </tr>\n",
       "    <tr>\n",
       "      <th>7</th>\n",
       "      <td>4.3</td>\n",
       "      <td>4.4</td>\n",
       "      <td>6.9</td>\n",
       "      <td>7.2</td>\n",
       "      <td>1</td>\n",
       "    </tr>\n",
       "    <tr>\n",
       "      <th>8</th>\n",
       "      <td>3.3</td>\n",
       "      <td>4.7</td>\n",
       "      <td>5.8</td>\n",
       "      <td>7.5</td>\n",
       "      <td>2</td>\n",
       "    </tr>\n",
       "    <tr>\n",
       "      <th>9</th>\n",
       "      <td>3.9</td>\n",
       "      <td>4.6</td>\n",
       "      <td>6.0</td>\n",
       "      <td>6.9</td>\n",
       "      <td>3</td>\n",
       "    </tr>\n",
       "  </tbody>\n",
       "</table>\n",
       "</div>"
      ],
      "text/plain": [
       "   Feature1  Feature2  Feature3  Feature4  Category\n",
       "0       1.5       3.2       5.1       6.5         1\n",
       "1       2.0       2.5       4.9       6.7         2\n",
       "4       2.2       3.6       5.0       6.1         1\n",
       "5       3.7       4.2       5.2       7.0         2\n",
       "6       4.1       4.8       6.2       6.1         3\n",
       "7       4.3       4.4       6.9       7.2         1\n",
       "8       3.3       4.7       5.8       7.5         2\n",
       "9       3.9       4.6       6.0       6.9         3"
      ]
     },
     "execution_count": 11,
     "metadata": {},
     "output_type": "execute_result"
    }
   ],
   "source": [
    "nm = filter_missing(data)\n",
    "nm"
   ]
  },
  {
   "cell_type": "code",
   "execution_count": 12,
   "metadata": {},
   "outputs": [
    {
     "data": {
      "text/html": [
       "<div>\n",
       "<style scoped>\n",
       "    .dataframe tbody tr th:only-of-type {\n",
       "        vertical-align: middle;\n",
       "    }\n",
       "\n",
       "    .dataframe tbody tr th {\n",
       "        vertical-align: top;\n",
       "    }\n",
       "\n",
       "    .dataframe thead th {\n",
       "        text-align: right;\n",
       "    }\n",
       "</style>\n",
       "<table border=\"1\" class=\"dataframe\">\n",
       "  <thead>\n",
       "    <tr style=\"text-align: right;\">\n",
       "      <th></th>\n",
       "      <th>Feature1</th>\n",
       "      <th>Feature2</th>\n",
       "      <th>Feature3</th>\n",
       "      <th>Feature4</th>\n",
       "      <th>Category</th>\n",
       "    </tr>\n",
       "  </thead>\n",
       "  <tbody>\n",
       "    <tr>\n",
       "      <th>2</th>\n",
       "      <td>1.8</td>\n",
       "      <td>NaN</td>\n",
       "      <td>5.3</td>\n",
       "      <td>NaN</td>\n",
       "      <td>3</td>\n",
       "    </tr>\n",
       "    <tr>\n",
       "      <th>3</th>\n",
       "      <td>NaN</td>\n",
       "      <td>2.9</td>\n",
       "      <td>4.7</td>\n",
       "      <td>6.4</td>\n",
       "      <td>2</td>\n",
       "    </tr>\n",
       "  </tbody>\n",
       "</table>\n",
       "</div>"
      ],
      "text/plain": [
       "   Feature1  Feature2  Feature3  Feature4  Category\n",
       "2       1.8       NaN       5.3       NaN         3\n",
       "3       NaN       2.9       4.7       6.4         2"
      ]
     },
     "execution_count": 12,
     "metadata": {},
     "output_type": "execute_result"
    }
   ],
   "source": [
    "cm = collect_missing(data)\n",
    "cm"
   ]
  },
  {
   "cell_type": "code",
   "execution_count": 13,
   "metadata": {},
   "outputs": [
    {
     "data": {
      "text/plain": [
       "{'Feature1': 0.1,\n",
       " 'Feature2': 0.1,\n",
       " 'Feature3': 0.0,\n",
       " 'Feature4': 0.1,\n",
       " 'Category': 0.0}"
      ]
     },
     "execution_count": 13,
     "metadata": {},
     "output_type": "execute_result"
    }
   ],
   "source": [
    "res = determine_missing_proportions(data)\n",
    "res"
   ]
  },
  {
   "cell_type": "code",
   "execution_count": null,
   "metadata": {},
   "outputs": [],
   "source": [
    "for ind in cm.index:\n",
    "    print(np.array(cm.loc[[ind]].dropna(axis=1)))"
   ]
  },
  {
   "cell_type": "code",
   "execution_count": null,
   "metadata": {},
   "outputs": [],
   "source": [
    "\"\"\"\n",
    "!pip install wget \n",
    "\n",
    "import wget\n",
    "wget.download('https://raw.githubusercontent.com/BorisMuzellec/MissingDataOT/master/utils.py')\n",
    "\n",
    "import numpy as np\n",
    "import pandas as pd\n",
    "from utils import *\n",
    "import torch\n",
    "import seaborn as sns\n",
    "\"\"\""
   ]
  },
  {
   "cell_type": "code",
   "execution_count": null,
   "metadata": {},
   "outputs": [],
   "source": [
    "\"\"\"\n",
    "# Function produce_NA for generating missing values ------------------------------------------------------\n",
    "\n",
    "def produce_NA(X, p_miss, mecha=\"MCAR\", opt=None, p_obs=None, q=None):\n",
    "    #\\\"\"\"\n",
    "    from: https://rmisstastic.netlify.app/how-to/python/generate_html/how%20to%20generate%20missing%20values\n",
    "    Generate missing values for specifics missing-data mechanism and proportion of missing values. \n",
    "    \n",
    "    Parameters\n",
    "    ----------\n",
    "    X : torch.DoubleTensor or np.ndarray, shape (n, d)\n",
    "        Data for which missing values will be simulated.\n",
    "        If a numpy array is provided, it will be converted to a pytorch tensor.\n",
    "    p_miss : float\n",
    "        Proportion of missing values to generate for variables which will have missing values.\n",
    "    mecha : str, \n",
    "            Indicates the missing-data mechanism to be used. \"MCAR\" by default, \"MAR\", \"MNAR\" or \"MNARsmask\"\n",
    "    opt: str, \n",
    "         For mecha = \"MNAR\", it indicates how the missing-data mechanism is generated: using a logistic regression (\"logistic\"), quantile censorship (\"quantile\") or logistic regression for generating a self-masked MNAR mechanism (\"selfmasked\").\n",
    "    p_obs : float\n",
    "            If mecha = \"MAR\", or mecha = \"MNAR\" with opt = \"logistic\" or \"quanti\", proportion of variables with *no* missing values that will be used for the logistic masking model.\n",
    "    q : float\n",
    "        If mecha = \"MNAR\" and opt = \"quanti\", quantile level at which the cuts should occur.\n",
    "    \n",
    "    Returns\n",
    "    ----------\n",
    "    A dictionnary containing:\n",
    "    'X_init': the initial data matrix.\n",
    "    'X_incomp': the data with the generated missing values.\n",
    "    'mask': a matrix indexing the generated missing values.s\n",
    "    #\\\"\"\"\n",
    "    \n",
    "    to_torch = torch.is_tensor(X) ## output a pytorch tensor, or a numpy array\n",
    "    if not to_torch:\n",
    "        X = X.astype(np.float32)\n",
    "        X = torch.from_numpy(X)\n",
    "    \n",
    "    if mecha == \"MAR\":\n",
    "        mask = MAR_mask(X, p_miss, p_obs).double()\n",
    "    elif mecha == \"MNAR\" and opt == \"logistic\":\n",
    "        mask = MNAR_mask_logistic(X, p_miss, p_obs).double()\n",
    "    elif mecha == \"MNAR\" and opt == \"quantile\":\n",
    "        mask = MNAR_mask_quantiles(X, p_miss, q, 1-p_obs).double()\n",
    "    elif mecha == \"MNAR\" and opt == \"selfmasked\":\n",
    "        mask = MNAR_self_mask_logistic(X, p_miss).double()\n",
    "    else:\n",
    "        mask = (torch.rand(X.shape) < p_miss).double()\n",
    "    \n",
    "    X_nas = X.clone()\n",
    "    X_nas[mask.bool()] = np.nan\n",
    "    \n",
    "    return {'X_init': X.double(), 'X_incomp': X_nas.double(), 'mask': mask}\n",
    "    \"\"\""
   ]
  },
  {
   "cell_type": "code",
   "execution_count": null,
   "metadata": {},
   "outputs": [],
   "source": [
    "\"\"\"\n",
    "# Create the dataframe\n",
    "data = {\n",
    "    'Feature1': [1.5, 2.0, 1.8, 2.0, 2.2],\n",
    "    'Feature2': [3.2, 2.1, 2.5, 2.9, 3.6],\n",
    "    'Feature3': [5.1, 4.9, 5.3, 4.7, 5.0],\n",
    "    'Feature4': [6.5, 6.7, 7.3, 6.4, 6.1],\n",
    "    'Category': [1, 2, 3, 2, 1]\n",
    "}\n",
    "\n",
    "data = pd.DataFrame(data)\n",
    "\"\"\""
   ]
  },
  {
   "cell_type": "code",
   "execution_count": 228,
   "metadata": {},
   "outputs": [],
   "source": [
    "def simulate_missing(df, method=\"nearest-neighbors\"):\n",
    "    def filter_missing(df, axis='rows'):\n",
    "        if axis == 'rows':\n",
    "            df = df.dropna(axis=0)\n",
    "            return df\n",
    "        elif axis == 'columns' or axis == \"cols\":\n",
    "            df = df.dropna(axis=1)    \n",
    "            return df\n",
    "        else:\n",
    "            raise ValueError(f\"Invalid axis option '{axis}'. Please choose 'rows' or 'columns'.\")\n",
    "    \n",
    "    def collect_missing(df):\n",
    "        df = df[df.isna().any(axis=1)]\n",
    "        return df\n",
    "    \n",
    "    def determine_missing_proportions(df):\n",
    "        f = []; p = []\n",
    "        for col in df.columns:\n",
    "            f.append(col)\n",
    "            p.append(df[col].isna().sum()/len(df))\n",
    "        d = dict(zip(f, p))\n",
    "        return(d)\n",
    "        \n",
    "    nm = filter_missing(df)\n",
    "    cm = collect_missing(df)\n",
    "    mp = determine_missing_proportions(df)\n",
    "    \n",
    "    if method == \"nearest-neighbors\":\n",
    "        scaler = StandardScaler()\n",
    "        \n",
    "        nm = pd.DataFrame(scaler.fit_transform(nm), index=nm.index)\n",
    "        cm = pd.DataFrame(scaler.transform(cm), index=cm.index)\n",
    "        \n",
    "        counter_dict = dict(zip(cm.index, np.repeat(1, len(cm.index))))\n",
    "        n_feat = []; distance_list = []; neighbor_list = []\n",
    "        \n",
    "        for ind in pd.DataFrame(cm).index:\n",
    "            n_feat.append(cm.loc[ind].dropna().shape[0])\n",
    "            \n",
    "            nbrs = NearestNeighbors(n_neighbors=1).fit(nm[list(pd.DataFrame(cm).loc[ind].dropna().index)])\n",
    "            distances, indices = nbrs.kneighbors(pd.DataFrame(filter_missing(cm.loc[ind], axis='rows')).T)\n",
    "\n",
    "            distance_list.append(distances.ravel()[0])\n",
    "            neighbor_list.append(indices.ravel()[0])\n",
    "\n",
    "    results = pd.DataFrame([cm.index, n_feat, distance_list, neighbor_list]).T\n",
    "    results.columns = [\"ind\", \"n_features\", \"distances\", \"nn\"]\n",
    "    print(results)\n",
    "    \n",
    "    if len(results['nn'].tolist()) == len(set(results['nn'])):\n",
    "        print(\"generate_simulated\")\n",
    "    else:\n",
    "        for item in set(results['nn'][test.duplicated('nn', keep=False)].tolist()): #for each item duplicated \n",
    "            print(item)\n",
    "            for ind in results['ind'][results['n_features'] == min(results['n_features'][results['nn'] == item])]: #get the indices with the minimum number of features\n",
    "                print(ind)\n",
    "                print(counter_dict)\n",
    "                counter_dict[ind] = counter_dict[ind]+1 #add one to the counter\n",
    "                print(counter_dict)\n",
    "    \n",
    "                nbrs = NearestNeighbors(n_neighbors=counter_dict[ind]).fit(nm[list(pd.DataFrame(cm).loc[ind].dropna().index)])\n",
    "                distances, indices = nbrs.kneighbors(pd.DataFrame(filter_missing(cm.loc[ind], axis='rows')).T)\n",
    "                print(distances, indices)\n",
    "    \n",
    "                dist = distances.ravel()[counter_dict[ind]-1]\n",
    "                print(dist)\n",
    "                neighbor = indices.ravel()[counter_dict[ind]-1]\n",
    "                print(neighbor)\n",
    "                \n",
    "                results.loc[(results['nn'] == item) & (results['n_features'] == ind), 'distances'] = dist\n",
    "                results.loc[(results['nn'] == item) & (results['n_features'] == ind), 'nn'] = neighbor\n",
    "\n",
    "                print(results)\n",
    "    return results"
   ]
  },
  {
   "cell_type": "code",
   "execution_count": 229,
   "metadata": {},
   "outputs": [
    {
     "name": "stdout",
     "output_type": "stream",
     "text": [
      "   ind  n_features  distances   nn\n",
      "0  2.0         3.0   1.430593  1.0\n",
      "1  3.0         4.0   0.877835  1.0\n",
      "1.0\n",
      "2.0\n",
      "{2: 1, 3: 1}\n",
      "{2: 2, 3: 1}\n",
      "[[1.4305934  2.10886112]] [[1 6]]\n",
      "2.1088611235706307\n",
      "6\n",
      "   ind  n_features  distances   nn\n",
      "0  2.0         3.0   1.430593  1.0\n",
      "1  3.0         4.0   0.877835  1.0\n"
     ]
    }
   ],
   "source": [
    "results = simulate_missing(data)"
   ]
  },
  {
   "cell_type": "code",
   "execution_count": 230,
   "metadata": {},
   "outputs": [
    {
     "data": {
      "text/html": [
       "<div>\n",
       "<style scoped>\n",
       "    .dataframe tbody tr th:only-of-type {\n",
       "        vertical-align: middle;\n",
       "    }\n",
       "\n",
       "    .dataframe tbody tr th {\n",
       "        vertical-align: top;\n",
       "    }\n",
       "\n",
       "    .dataframe thead th {\n",
       "        text-align: right;\n",
       "    }\n",
       "</style>\n",
       "<table border=\"1\" class=\"dataframe\">\n",
       "  <thead>\n",
       "    <tr style=\"text-align: right;\">\n",
       "      <th></th>\n",
       "      <th>ind</th>\n",
       "      <th>n_features</th>\n",
       "      <th>distances</th>\n",
       "      <th>nn</th>\n",
       "    </tr>\n",
       "  </thead>\n",
       "  <tbody>\n",
       "    <tr>\n",
       "      <th>0</th>\n",
       "      <td>2.0</td>\n",
       "      <td>3.0</td>\n",
       "      <td>1.430593</td>\n",
       "      <td>1.0</td>\n",
       "    </tr>\n",
       "    <tr>\n",
       "      <th>1</th>\n",
       "      <td>3.0</td>\n",
       "      <td>4.0</td>\n",
       "      <td>0.877835</td>\n",
       "      <td>1.0</td>\n",
       "    </tr>\n",
       "  </tbody>\n",
       "</table>\n",
       "</div>"
      ],
      "text/plain": [
       "   ind  n_features  distances   nn\n",
       "0  2.0         3.0   1.430593  1.0\n",
       "1  3.0         4.0   0.877835  1.0"
      ]
     },
     "execution_count": 230,
     "metadata": {},
     "output_type": "execute_result"
    }
   ],
   "source": [
    "results"
   ]
  },
  {
   "cell_type": "code",
   "execution_count": 205,
   "metadata": {},
   "outputs": [
    {
     "ename": "NameError",
     "evalue": "name 'counter_dict' is not defined",
     "output_type": "error",
     "traceback": [
      "\u001b[0;31m---------------------------------------------------------------------------\u001b[0m",
      "\u001b[0;31mNameError\u001b[0m                                 Traceback (most recent call last)",
      "Cell \u001b[0;32mIn[205], line 6\u001b[0m\n\u001b[1;32m      4\u001b[0m \u001b[38;5;28;01mfor\u001b[39;00m item \u001b[38;5;129;01min\u001b[39;00m \u001b[38;5;28mset\u001b[39m(results[\u001b[38;5;124m'\u001b[39m\u001b[38;5;124mnn\u001b[39m\u001b[38;5;124m'\u001b[39m][test\u001b[38;5;241m.\u001b[39mduplicated(\u001b[38;5;124m'\u001b[39m\u001b[38;5;124mnn\u001b[39m\u001b[38;5;124m'\u001b[39m, keep\u001b[38;5;241m=\u001b[39m\u001b[38;5;28;01mFalse\u001b[39;00m)]\u001b[38;5;241m.\u001b[39mtolist()): \u001b[38;5;66;03m#for each item duplicated \u001b[39;00m\n\u001b[1;32m      5\u001b[0m     \u001b[38;5;28;01mfor\u001b[39;00m ind \u001b[38;5;129;01min\u001b[39;00m results[\u001b[38;5;124m'\u001b[39m\u001b[38;5;124mind\u001b[39m\u001b[38;5;124m'\u001b[39m][results[\u001b[38;5;124m'\u001b[39m\u001b[38;5;124mn_features\u001b[39m\u001b[38;5;124m'\u001b[39m] \u001b[38;5;241m==\u001b[39m \u001b[38;5;28mmin\u001b[39m(results[\u001b[38;5;124m'\u001b[39m\u001b[38;5;124mn_features\u001b[39m\u001b[38;5;124m'\u001b[39m][results[\u001b[38;5;124m'\u001b[39m\u001b[38;5;124mnn\u001b[39m\u001b[38;5;124m'\u001b[39m] \u001b[38;5;241m==\u001b[39m item])]: \u001b[38;5;66;03m#get the indices with the minimum number of features\u001b[39;00m\n\u001b[0;32m----> 6\u001b[0m         counter_dict[ind] \u001b[38;5;241m=\u001b[39m \u001b[43mcounter_dict\u001b[49m[ind]\u001b[38;5;241m+\u001b[39m\u001b[38;5;241m1\u001b[39m \u001b[38;5;66;03m#add one to the counter\u001b[39;00m\n\u001b[1;32m      8\u001b[0m         nbrs \u001b[38;5;241m=\u001b[39m NearestNeighbors(n_neighbors\u001b[38;5;241m=\u001b[39mcounter_dict[ind])\u001b[38;5;241m.\u001b[39mfit(nm[\u001b[38;5;28mlist\u001b[39m(pd\u001b[38;5;241m.\u001b[39mDataFrame(cm)\u001b[38;5;241m.\u001b[39mloc[ind]\u001b[38;5;241m.\u001b[39mdropna()\u001b[38;5;241m.\u001b[39mindex)])\n\u001b[1;32m      9\u001b[0m         distances, indices \u001b[38;5;241m=\u001b[39m nbrs\u001b[38;5;241m.\u001b[39mkneighbors(pd\u001b[38;5;241m.\u001b[39mDataFrame(filter_missing(cm\u001b[38;5;241m.\u001b[39mloc[ind], axis\u001b[38;5;241m=\u001b[39m\u001b[38;5;124m'\u001b[39m\u001b[38;5;124mrows\u001b[39m\u001b[38;5;124m'\u001b[39m))\u001b[38;5;241m.\u001b[39mT)\n",
      "\u001b[0;31mNameError\u001b[0m: name 'counter_dict' is not defined"
     ]
    }
   ],
   "source": [
    "if len(results['nn'].tolist()) == len(set(results['nn'])):\n",
    "    print(\"generate_simulated\")\n",
    "else:\n",
    "    for item in set(results['nn'][test.duplicated('nn', keep=False)].tolist()): #for each item duplicated \n",
    "        for ind in results['ind'][results['n_features'] == min(results['n_features'][results['nn'] == item])]: #get the indices with the minimum number of features\n",
    "            counter_dict[ind] = counter_dict[ind]+1 #add one to the counter\n",
    "\n",
    "            nbrs = NearestNeighbors(n_neighbors=counter_dict[ind]).fit(nm[list(pd.DataFrame(cm).loc[ind].dropna().index)])\n",
    "            distances, indices = nbrs.kneighbors(pd.DataFrame(filter_missing(cm.loc[ind], axis='rows')).T)\n",
    "\n",
    "            dist = distances.ravel()[counter_dict[ind]-1]\n",
    "            neighbor = indices.ravel()[counter_dict[ind]-1]\n",
    "\n",
    "            results['distances'].iloc[(results[(results['nn'] == item) & (results['n_features'] == ind)]).index[0]] = dist\n",
    "            results['nn'].iloc[(results[(results['nn'] == item) & (results['n_features'] == ind)]).index[0]] = neighbor"
   ]
  },
  {
   "cell_type": "code",
   "execution_count": 169,
   "metadata": {},
   "outputs": [
    {
     "name": "stdout",
     "output_type": "stream",
     "text": [
      "2.0\n"
     ]
    }
   ],
   "source": [
    "for item in set(results['nn'][test.duplicated('nn', keep=False)].tolist()):\n",
    "    for ind in results['ind'][results['n_features'] == min(results['n_features'][results['nn'] == item])]:\n",
    "        print(ind)"
   ]
  },
  {
   "cell_type": "code",
   "execution_count": 202,
   "metadata": {
    "scrolled": true
   },
   "outputs": [
    {
     "data": {
      "text/plain": [
       "0"
      ]
     },
     "execution_count": 202,
     "metadata": {},
     "output_type": "execute_result"
    }
   ],
   "source": [
    "(results[(results['nn'] == 1) & (results['n_features'] == 3.0)]).index[0]"
   ]
  },
  {
   "cell_type": "code",
   "execution_count": 204,
   "metadata": {},
   "outputs": [
    {
     "data": {
      "text/plain": [
       "1.4305933955406143"
      ]
     },
     "execution_count": 204,
     "metadata": {},
     "output_type": "execute_result"
    }
   ],
   "source": [
    "results['distances'].iloc[0]"
   ]
  },
  {
   "cell_type": "code",
   "execution_count": 177,
   "metadata": {},
   "outputs": [
    {
     "data": {
      "text/plain": [
       "0    True\n",
       "1    True\n",
       "Name: nn, dtype: bool"
      ]
     },
     "execution_count": 177,
     "metadata": {},
     "output_type": "execute_result"
    }
   ],
   "source": [
    "results['nn'] == 1"
   ]
  },
  {
   "cell_type": "code",
   "execution_count": 172,
   "metadata": {},
   "outputs": [
    {
     "data": {
      "text/html": [
       "<div>\n",
       "<style scoped>\n",
       "    .dataframe tbody tr th:only-of-type {\n",
       "        vertical-align: middle;\n",
       "    }\n",
       "\n",
       "    .dataframe tbody tr th {\n",
       "        vertical-align: top;\n",
       "    }\n",
       "\n",
       "    .dataframe thead th {\n",
       "        text-align: right;\n",
       "    }\n",
       "</style>\n",
       "<table border=\"1\" class=\"dataframe\">\n",
       "  <thead>\n",
       "    <tr style=\"text-align: right;\">\n",
       "      <th></th>\n",
       "      <th>ind</th>\n",
       "      <th>n_features</th>\n",
       "      <th>distances</th>\n",
       "      <th>nn</th>\n",
       "    </tr>\n",
       "  </thead>\n",
       "  <tbody>\n",
       "    <tr>\n",
       "      <th>0</th>\n",
       "      <td>2.0</td>\n",
       "      <td>3.0</td>\n",
       "      <td>1.430593</td>\n",
       "      <td>1.0</td>\n",
       "    </tr>\n",
       "    <tr>\n",
       "      <th>1</th>\n",
       "      <td>3.0</td>\n",
       "      <td>4.0</td>\n",
       "      <td>0.877835</td>\n",
       "      <td>1.0</td>\n",
       "    </tr>\n",
       "  </tbody>\n",
       "</table>\n",
       "</div>"
      ],
      "text/plain": [
       "   ind  n_features  distances   nn\n",
       "0  2.0         3.0   1.430593  1.0\n",
       "1  3.0         4.0   0.877835  1.0"
      ]
     },
     "execution_count": 172,
     "metadata": {},
     "output_type": "execute_result"
    }
   ],
   "source": [
    "results"
   ]
  },
  {
   "cell_type": "code",
   "execution_count": null,
   "metadata": {},
   "outputs": [],
   "source": []
  },
  {
   "cell_type": "code",
   "execution_count": 141,
   "metadata": {},
   "outputs": [
    {
     "name": "stdout",
     "output_type": "stream",
     "text": [
      "1.0\n"
     ]
    }
   ],
   "source": [
    "for item in set(test['nn'][test.duplicated('nn', keep=False)].tolist()):\n",
    "    "
   ]
  },
  {
   "cell_type": "code",
   "execution_count": 132,
   "metadata": {},
   "outputs": [
    {
     "data": {
      "text/plain": [
       "[0, 1]"
      ]
     },
     "execution_count": 132,
     "metadata": {},
     "output_type": "execute_result"
    }
   ],
   "source": [
    "test[test.duplicated('nn', keep=False)].index.tolist()"
   ]
  },
  {
   "cell_type": "code",
   "execution_count": 100,
   "metadata": {},
   "outputs": [
    {
     "data": {
      "text/plain": [
       "[1, 1]"
      ]
     },
     "execution_count": 100,
     "metadata": {},
     "output_type": "execute_result"
    }
   ],
   "source": [
    "pos"
   ]
  },
  {
   "cell_type": "code",
   "execution_count": 51,
   "metadata": {},
   "outputs": [
    {
     "data": {
      "text/plain": [
       "[2, 3]"
      ]
     },
     "execution_count": 51,
     "metadata": {},
     "output_type": "execute_result"
    }
   ],
   "source": [
    "list(cm.index)"
   ]
  },
  {
   "cell_type": "code",
   "execution_count": 102,
   "metadata": {},
   "outputs": [
    {
     "data": {
      "text/plain": [
       "[0, 1]"
      ]
     },
     "execution_count": 102,
     "metadata": {},
     "output_type": "execute_result"
    }
   ],
   "source": [
    "[i for i, x in enumerate(pos) if pos.count(x) > 1]"
   ]
  },
  {
   "cell_type": "code",
   "execution_count": 114,
   "metadata": {},
   "outputs": [
    {
     "data": {
      "text/plain": [
       "[0, 1]"
      ]
     },
     "execution_count": 114,
     "metadata": {},
     "output_type": "execute_result"
    }
   ],
   "source": [
    "[i for i, j in enumerate(pos) if j == set([pos[0], pos[1]]).pop()]"
   ]
  },
  {
   "cell_type": "code",
   "execution_count": 111,
   "metadata": {},
   "outputs": [
    {
     "data": {
      "text/plain": [
       "1"
      ]
     },
     "execution_count": 111,
     "metadata": {},
     "output_type": "execute_result"
    }
   ],
   "source": [
    "set([pos[0], pos[1]]).pop()"
   ]
  },
  {
   "cell_type": "code",
   "execution_count": 38,
   "metadata": {},
   "outputs": [],
   "source": [
    "nbrs = NearestNeighbors(n_neighbors=1).fit(nm[list(pd.DataFrame(cm).loc[2].dropna().index)])"
   ]
  },
  {
   "cell_type": "code",
   "execution_count": 39,
   "metadata": {},
   "outputs": [],
   "source": [
    "distances, indices = nbrs.kneighbors(pd.DataFrame(filter_missing(cm.loc[2], axis='rows')).T)"
   ]
  },
  {
   "cell_type": "code",
   "execution_count": 40,
   "metadata": {},
   "outputs": [
    {
     "data": {
      "text/plain": [
       "array([[1.4305934]])"
      ]
     },
     "execution_count": 40,
     "metadata": {},
     "output_type": "execute_result"
    }
   ],
   "source": [
    "distances"
   ]
  },
  {
   "cell_type": "code",
   "execution_count": 41,
   "metadata": {},
   "outputs": [
    {
     "data": {
      "text/plain": [
       "array([[1]])"
      ]
     },
     "execution_count": 41,
     "metadata": {},
     "output_type": "execute_result"
    }
   ],
   "source": [
    "indices"
   ]
  },
  {
   "cell_type": "code",
   "execution_count": 17,
   "metadata": {},
   "outputs": [
    {
     "name": "stdout",
     "output_type": "stream",
     "text": [
      "2\n",
      "3\n"
     ]
    }
   ],
   "source": [
    "for ind in cm.index:\n",
    "    print(ind)"
   ]
  },
  {
   "cell_type": "code",
   "execution_count": 52,
   "metadata": {},
   "outputs": [
    {
     "data": {
      "text/plain": [
       "array([1, 1, 1])"
      ]
     },
     "execution_count": 52,
     "metadata": {},
     "output_type": "execute_result"
    }
   ],
   "source": [
    "np.repeat(1, 3)"
   ]
  },
  {
   "cell_type": "code",
   "execution_count": 56,
   "metadata": {},
   "outputs": [
    {
     "data": {
      "text/plain": [
       "{2: 1, 3: 1}"
      ]
     },
     "execution_count": 56,
     "metadata": {},
     "output_type": "execute_result"
    }
   ],
   "source": [
    "dict(zip(cm.index, np.repeat(1, len(cm.index))))"
   ]
  },
  {
   "cell_type": "code",
   "execution_count": 15,
   "metadata": {},
   "outputs": [],
   "source": [
    "import pandas as pd\n",
    "import numpy as np\n",
    "from sklearn.preprocessing import StandardScaler\n",
    "from sklearn.neighbors import NearestNeighbors\n",
    "\n",
    "def simulate_missing(df, method=\"nearest-neighbors\"):\n",
    "    def filter_missing(df, axis='rows'):\n",
    "        if axis == 'rows':\n",
    "            df = df.dropna(axis=0)\n",
    "            return df\n",
    "        elif axis in ('columns', 'cols'):\n",
    "            df = df.dropna(axis=1)    \n",
    "            return df\n",
    "        else:\n",
    "            raise ValueError(f\"Invalid axis option '{axis}'. Please choose 'rows' or 'columns'.\")\n",
    "\n",
    "    def collect_missing(df):\n",
    "        df = df[df.isna().any(axis=1)]\n",
    "        return df\n",
    "    \n",
    "    def determine_missing_proportions(df):\n",
    "        f = []; p = []\n",
    "        for col in df.columns:\n",
    "            f.append(col)\n",
    "            p.append(df[col].isna().sum()/len(df))\n",
    "        d = dict(zip(f, p))\n",
    "        return d\n",
    "        \n",
    "    nm = filter_missing(df)\n",
    "    cm = collect_missing(df)\n",
    "    mp = determine_missing_proportions(df)\n",
    "    \n",
    "    if method == \"nearest-neighbors\":\n",
    "        scaler = StandardScaler()\n",
    "        \n",
    "        nm = pd.DataFrame(scaler.fit_transform(nm), index=nm.index)\n",
    "        cm = pd.DataFrame(scaler.transform(cm), index=cm.index)\n",
    "        \n",
    "        counter_dict = dict(zip(cm.index, np.repeat(1, len(cm.index))))\n",
    "        n_feat = []; distance_list = []; neighbor_list = []\n",
    "        \n",
    "        for ind in pd.DataFrame(cm).index:\n",
    "            n_feat.append(cm.loc[ind].dropna().shape[0])\n",
    "            \n",
    "            nbrs = NearestNeighbors(n_neighbors=1).fit(nm[list(pd.DataFrame(cm).loc[ind].dropna().index)])\n",
    "            distances, indices = nbrs.kneighbors(pd.DataFrame(filter_missing(cm.loc[ind], axis='rows')).T)\n",
    "\n",
    "            distance_list.append(distances.ravel()[0])\n",
    "            neighbor_list.append(indices.ravel()[0])\n",
    "\n",
    "    results = pd.DataFrame([cm.index, n_feat, distance_list, neighbor_list]).T\n",
    "    results.columns = [\"ind\", \"n_features\", \"distances\", \"nn\"]\n",
    "\n",
    "    if len(results[results.duplicated('nn', keep=False)]['nn'].tolist()) == len(set(results[results.duplicated('nn', keep=False)]['nn'].tolist())):\n",
    "        print(\"generate_simulated\")\n",
    "    else:\n",
    "        for item in set(results[results.duplicated('nn', keep=False)]['nn'].tolist()):\n",
    "            for ind in results[results['n_features'] == min(results[results['nn'] == item]['n_features'])]['ind']:\n",
    "                counter_dict[ind] = counter_dict[ind] + 1\n",
    "\n",
    "                nbrs = NearestNeighbors(n_neighbors=counter_dict[ind]).fit(nm[list(pd.DataFrame(cm).loc[ind].dropna().index)])\n",
    "                distances, indices = nbrs.kneighbors(pd.DataFrame(filter_missing(cm.loc[ind], axis='rows')).T)\n",
    "\n",
    "                dist = distances.ravel()[counter_dict[ind]-1]\n",
    "                neighbor = indices.ravel()[counter_dict[ind]-1]\n",
    "\n",
    "                # Use .iloc to update the values in the 'results' DataFrame\n",
    "                results.loc[results['ind'] == ind, 'distances'] = dist\n",
    "                results.loc[results['ind'] == ind, 'nn'] = neighbor\n",
    "    \n",
    "    return results"
   ]
  },
  {
   "cell_type": "code",
   "execution_count": 16,
   "metadata": {},
   "outputs": [
    {
     "name": "stdout",
     "output_type": "stream",
     "text": [
      "CPU times: user 32.1 ms, sys: 71 µs, total: 32.1 ms\n",
      "Wall time: 31.4 ms\n"
     ]
    },
    {
     "data": {
      "text/html": [
       "<div>\n",
       "<style scoped>\n",
       "    .dataframe tbody tr th:only-of-type {\n",
       "        vertical-align: middle;\n",
       "    }\n",
       "\n",
       "    .dataframe tbody tr th {\n",
       "        vertical-align: top;\n",
       "    }\n",
       "\n",
       "    .dataframe thead th {\n",
       "        text-align: right;\n",
       "    }\n",
       "</style>\n",
       "<table border=\"1\" class=\"dataframe\">\n",
       "  <thead>\n",
       "    <tr style=\"text-align: right;\">\n",
       "      <th></th>\n",
       "      <th>ind</th>\n",
       "      <th>n_features</th>\n",
       "      <th>distances</th>\n",
       "      <th>nn</th>\n",
       "    </tr>\n",
       "  </thead>\n",
       "  <tbody>\n",
       "    <tr>\n",
       "      <th>0</th>\n",
       "      <td>2.0</td>\n",
       "      <td>3.0</td>\n",
       "      <td>2.108861</td>\n",
       "      <td>6.0</td>\n",
       "    </tr>\n",
       "    <tr>\n",
       "      <th>1</th>\n",
       "      <td>3.0</td>\n",
       "      <td>4.0</td>\n",
       "      <td>0.877835</td>\n",
       "      <td>1.0</td>\n",
       "    </tr>\n",
       "  </tbody>\n",
       "</table>\n",
       "</div>"
      ],
      "text/plain": [
       "   ind  n_features  distances   nn\n",
       "0  2.0         3.0   2.108861  6.0\n",
       "1  3.0         4.0   0.877835  1.0"
      ]
     },
     "execution_count": 16,
     "metadata": {},
     "output_type": "execute_result"
    }
   ],
   "source": [
    "%%time\n",
    "simulate_missing(data)"
   ]
  },
  {
   "cell_type": "code",
   "execution_count": 235,
   "metadata": {},
   "outputs": [],
   "source": [
    "import numpy as np\n",
    "from sklearn.preprocessing import StandardScaler\n",
    "from sklearn.neighbors import NearestNeighbors\n",
    "\n",
    "def simulate_missing(df, method=\"nearest-neighbors\"):\n",
    "    def filter_missing(matrix):\n",
    "        return [row for row in matrix if not any(np.isnan(row))]\n",
    "    \n",
    "    def collect_missing(matrix):\n",
    "        return [row for row in matrix if any(np.isnan(row))]\n",
    "    \n",
    "    def determine_missing_proportions(matrix):\n",
    "        proportions = []\n",
    "        for col in range(len(matrix[0])):\n",
    "            count_missing = sum(1 for row in matrix if np.isnan(row[col]))\n",
    "            proportions.append(count_missing / len(matrix))\n",
    "        return proportions\n",
    "    \n",
    "    def scale_data(matrix):\n",
    "        scaler = StandardScaler()\n",
    "        return scaler.fit_transform(matrix)\n",
    "\n",
    "    def find_nearest_neighbors(nm, cm):\n",
    "        counter_dict = {ind: 1 for ind in range(len(cm))}\n",
    "\n",
    "        n_feat = []\n",
    "        distance_list = []\n",
    "        neighbor_list = []\n",
    "\n",
    "        for ind, cm_row in enumerate(cm):\n",
    "            n_feat.append(len(cm_row) - np.isnan(cm_row).sum())\n",
    "\n",
    "            # Flatten and remove NaNs for NearestNeighbors fit\n",
    "            nm_filtered = nm[:, ~np.isnan(cm_row)]\n",
    "            cm_row_filtered = cm_row[~np.isnan(cm_row)]\n",
    "\n",
    "            nbrs = NearestNeighbors(n_neighbors=1).fit(nm_filtered)\n",
    "            distances, indices = nbrs.kneighbors([cm_row_filtered])\n",
    "\n",
    "            distance_list.append(distances.ravel()[0])\n",
    "            neighbor_list.append(indices.ravel()[0])\n",
    "\n",
    "        return n_feat, distance_list, neighbor_list, counter_dict\n",
    "\n",
    "    # Convert DataFrame to list of lists\n",
    "    df_matrix = df.values.tolist()\n",
    "\n",
    "    # Filter missing and complete rows\n",
    "    nm = scale_data(filter_missing(df_matrix))\n",
    "    cm = scale_data(collect_missing(df_matrix))\n",
    "\n",
    "    n_feat, distance_list, neighbor_list, counter_dict = find_nearest_neighbors(nm, cm)\n",
    "\n",
    "    results = []\n",
    "    for i, ind in enumerate(collect_missing(df_matrix)):\n",
    "        results.append([ind, n_feat[i], distance_list[i], neighbor_list[i]])\n",
    "\n",
    "    if len(set(nn for _, _, _, nn in results)) == len(results):\n",
    "        print(\"generate_simulated\")\n",
    "    else:\n",
    "        for item in set(nn for _, _, _, nn in results if (nn, _) in results):\n",
    "            for i, (ind, n_features, _, nn) in enumerate(results):\n",
    "                if nn == item:\n",
    "                    counter_dict[ind] += 1\n",
    "\n",
    "                    # Flatten and remove NaNs for NearestNeighbors fit\n",
    "                    nm_filtered = nm[:, ~np.isnan(ind)]\n",
    "                    cm_row_filtered = ind[~np.isnan(ind)]\n",
    "\n",
    "                    nbrs = NearestNeighbors(n_neighbors=counter_dict[ind]).fit(nm_filtered)\n",
    "                    distances, indices = nbrs.kneighbors([cm_row_filtered])\n",
    "\n",
    "                    dist = distances.ravel()[counter_dict[ind]-1]\n",
    "                    neighbor = indices.ravel()[counter_dict[ind]-1]\n",
    "\n",
    "                    results[i][2] = dist\n",
    "                    results[i][3] = neighbor\n",
    "\n",
    "    # Convert results back to a DataFrame\n",
    "    results_df = pd.DataFrame(results, columns=[\"ind\", \"n_features\", \"distances\", \"nn\"])\n",
    "\n",
    "    return results_df"
   ]
  },
  {
   "cell_type": "code",
   "execution_count": 236,
   "metadata": {},
   "outputs": [
    {
     "name": "stdout",
     "output_type": "stream",
     "text": [
      "generate_simulated\n"
     ]
    },
    {
     "data": {
      "text/html": [
       "<div>\n",
       "<style scoped>\n",
       "    .dataframe tbody tr th:only-of-type {\n",
       "        vertical-align: middle;\n",
       "    }\n",
       "\n",
       "    .dataframe tbody tr th {\n",
       "        vertical-align: top;\n",
       "    }\n",
       "\n",
       "    .dataframe thead th {\n",
       "        text-align: right;\n",
       "    }\n",
       "</style>\n",
       "<table border=\"1\" class=\"dataframe\">\n",
       "  <thead>\n",
       "    <tr style=\"text-align: right;\">\n",
       "      <th></th>\n",
       "      <th>ind</th>\n",
       "      <th>n_features</th>\n",
       "      <th>distances</th>\n",
       "      <th>nn</th>\n",
       "    </tr>\n",
       "  </thead>\n",
       "  <tbody>\n",
       "    <tr>\n",
       "      <th>0</th>\n",
       "      <td>[1.8, nan, 5.3, nan, 3.0]</td>\n",
       "      <td>3</td>\n",
       "      <td>0.997653</td>\n",
       "      <td>7</td>\n",
       "    </tr>\n",
       "    <tr>\n",
       "      <th>1</th>\n",
       "      <td>[nan, 2.9, 4.7, 6.4, 2.0]</td>\n",
       "      <td>4</td>\n",
       "      <td>1.189088</td>\n",
       "      <td>0</td>\n",
       "    </tr>\n",
       "  </tbody>\n",
       "</table>\n",
       "</div>"
      ],
      "text/plain": [
       "                         ind  n_features  distances  nn\n",
       "0  [1.8, nan, 5.3, nan, 3.0]           3   0.997653   7\n",
       "1  [nan, 2.9, 4.7, 6.4, 2.0]           4   1.189088   0"
      ]
     },
     "execution_count": 236,
     "metadata": {},
     "output_type": "execute_result"
    }
   ],
   "source": [
    "simulate_missing(data)"
   ]
  },
  {
   "cell_type": "code",
   "execution_count": 250,
   "metadata": {},
   "outputs": [],
   "source": [
    "import numpy as np\n",
    "from sklearn.preprocessing import StandardScaler\n",
    "from sklearn.neighbors import NearestNeighbors\n",
    "\n",
    "def simulate_missing(df, method=\"nearest-neighbors\"):\n",
    "    def filter_missing(matrix):\n",
    "        return [row for row in matrix if not any(np.isnan(row))]\n",
    "    \n",
    "    def collect_missing(matrix):\n",
    "        return [row for row in matrix if any(np.isnan(row))]\n",
    "    \n",
    "    def determine_missing_proportions(matrix):\n",
    "        proportions = []\n",
    "        for col in range(len(matrix[0])):\n",
    "            count_missing = sum(1 for row in matrix if np.isnan(row[col]))\n",
    "            proportions.append(count_missing / len(matrix))\n",
    "        return proportions\n",
    "    \n",
    "    # def scale_data(matrix):\n",
    "    #     scaler = StandardScaler()\n",
    "    #     return scaler.fit_transform(matrix)\n",
    "\n",
    "    def find_nearest_neighbors(nm, cm):\n",
    "        counter_dict = {ind: 1 for ind in range(len(cm))}\n",
    "\n",
    "        n_feat = []\n",
    "        distance_list = []\n",
    "        neighbor_list = []\n",
    "\n",
    "        for ind, cm_row in enumerate(cm):\n",
    "            n_feat.append(len(cm_row) - np.isnan(cm_row).sum())\n",
    "\n",
    "            # Flatten and remove NaNs for NearestNeighbors fit\n",
    "            nm_filtered = nm[:, ~np.isnan(cm_row)]\n",
    "            cm_row_filtered = cm_row[~np.isnan(cm_row)]\n",
    "\n",
    "            nbrs = NearestNeighbors(n_neighbors=1).fit(nm_filtered)\n",
    "            distances, indices = nbrs.kneighbors([cm_row_filtered])\n",
    "\n",
    "            distance_list.append(distances.ravel()[0])\n",
    "            neighbor_list.append(indices.ravel()[0])\n",
    "\n",
    "        return n_feat, distance_list, neighbor_list, counter_dict\n",
    "\n",
    "    # Convert DataFrame to list of lists\n",
    "    df_matrix = df.values.tolist()\n",
    "    print(df_matrix)\n",
    "    \n",
    "    # Filter missing and complete rows\n",
    "    scaler = StandardScaler()\n",
    "    \n",
    "    nm = scaler.fit_transform(filter_missing(df_matrix))\n",
    "    print(nm)\n",
    "    cm = scaler.transform(collect_missing(df_matrix))\n",
    "    print(cm)\n",
    "    \n",
    "    n_feat, distance_list, neighbor_list, counter_dict = find_nearest_neighbors(nm, cm)\n",
    "\n",
    "    results = []\n",
    "    for i, ind in enumerate(collect_missing(df_matrix)):\n",
    "        results.append([ind, n_feat[i], distance_list[i], neighbor_list[i]])\n",
    "\n",
    "    print(results)\n",
    "    \n",
    "    if len(set(nn for _, _, _, nn in results)) == len(results):\n",
    "        print(\"generate_simulated\")\n",
    "    else:\n",
    "        for item in set(nn for _, _, _, nn in results if (nn, _) in results):\n",
    "            for i, (ind, n_features, _, nn) in enumerate(results):\n",
    "                if nn == item:\n",
    "                    counter_dict[ind] += 1\n",
    "\n",
    "                    # Flatten and remove NaNs for NearestNeighbors fit\n",
    "                    nm_filtered = nm[:, ~np.isnan(ind)]\n",
    "                    cm_row_filtered = ind[~np.isnan(ind)]\n",
    "\n",
    "                    nbrs = NearestNeighbors(n_neighbors=counter_dict[ind]).fit(nm_filtered)\n",
    "                    distances, indices = nbrs.kneighbors([cm_row_filtered])\n",
    "\n",
    "                    dist = distances.ravel()[counter_dict[ind]-1]\n",
    "                    neighbor = indices.ravel()[counter_dict[ind]-1]\n",
    "\n",
    "                    results[i][2] = dist\n",
    "                    results[i][3] = neighbor\n",
    "\n",
    "    # Convert results back to a DataFrame\n",
    "    results_df = pd.DataFrame(results, columns=[\"ind\", \"n_features\", \"distances\", \"nn\"])\n",
    "    results_df = results_df.astype({\"n_features\": int, \"nn\": int})\n",
    "\n",
    "    return results_df\n"
   ]
  },
  {
   "cell_type": "code",
   "execution_count": 248,
   "metadata": {},
   "outputs": [
    {
     "data": {
      "text/html": [
       "<div>\n",
       "<style scoped>\n",
       "    .dataframe tbody tr th:only-of-type {\n",
       "        vertical-align: middle;\n",
       "    }\n",
       "\n",
       "    .dataframe tbody tr th {\n",
       "        vertical-align: top;\n",
       "    }\n",
       "\n",
       "    .dataframe thead th {\n",
       "        text-align: right;\n",
       "    }\n",
       "</style>\n",
       "<table border=\"1\" class=\"dataframe\">\n",
       "  <thead>\n",
       "    <tr style=\"text-align: right;\">\n",
       "      <th></th>\n",
       "      <th>Feature1</th>\n",
       "      <th>Feature2</th>\n",
       "      <th>Feature3</th>\n",
       "      <th>Feature4</th>\n",
       "      <th>Category</th>\n",
       "    </tr>\n",
       "  </thead>\n",
       "  <tbody>\n",
       "    <tr>\n",
       "      <th>0</th>\n",
       "      <td>1.5</td>\n",
       "      <td>3.2</td>\n",
       "      <td>5.1</td>\n",
       "      <td>6.5</td>\n",
       "      <td>1</td>\n",
       "    </tr>\n",
       "    <tr>\n",
       "      <th>1</th>\n",
       "      <td>2.0</td>\n",
       "      <td>2.5</td>\n",
       "      <td>4.9</td>\n",
       "      <td>6.7</td>\n",
       "      <td>2</td>\n",
       "    </tr>\n",
       "    <tr>\n",
       "      <th>2</th>\n",
       "      <td>1.8</td>\n",
       "      <td>NaN</td>\n",
       "      <td>5.3</td>\n",
       "      <td>NaN</td>\n",
       "      <td>3</td>\n",
       "    </tr>\n",
       "    <tr>\n",
       "      <th>3</th>\n",
       "      <td>NaN</td>\n",
       "      <td>2.9</td>\n",
       "      <td>4.7</td>\n",
       "      <td>6.4</td>\n",
       "      <td>2</td>\n",
       "    </tr>\n",
       "    <tr>\n",
       "      <th>4</th>\n",
       "      <td>2.2</td>\n",
       "      <td>3.6</td>\n",
       "      <td>5.0</td>\n",
       "      <td>6.1</td>\n",
       "      <td>1</td>\n",
       "    </tr>\n",
       "    <tr>\n",
       "      <th>5</th>\n",
       "      <td>3.7</td>\n",
       "      <td>4.2</td>\n",
       "      <td>5.2</td>\n",
       "      <td>7.0</td>\n",
       "      <td>2</td>\n",
       "    </tr>\n",
       "    <tr>\n",
       "      <th>6</th>\n",
       "      <td>4.1</td>\n",
       "      <td>4.8</td>\n",
       "      <td>6.2</td>\n",
       "      <td>6.1</td>\n",
       "      <td>3</td>\n",
       "    </tr>\n",
       "    <tr>\n",
       "      <th>7</th>\n",
       "      <td>4.3</td>\n",
       "      <td>4.4</td>\n",
       "      <td>6.9</td>\n",
       "      <td>7.2</td>\n",
       "      <td>1</td>\n",
       "    </tr>\n",
       "    <tr>\n",
       "      <th>8</th>\n",
       "      <td>3.3</td>\n",
       "      <td>4.7</td>\n",
       "      <td>5.8</td>\n",
       "      <td>7.5</td>\n",
       "      <td>2</td>\n",
       "    </tr>\n",
       "    <tr>\n",
       "      <th>9</th>\n",
       "      <td>3.9</td>\n",
       "      <td>4.6</td>\n",
       "      <td>6.0</td>\n",
       "      <td>6.9</td>\n",
       "      <td>3</td>\n",
       "    </tr>\n",
       "  </tbody>\n",
       "</table>\n",
       "</div>"
      ],
      "text/plain": [
       "   Feature1  Feature2  Feature3  Feature4  Category\n",
       "0       1.5       3.2       5.1       6.5         1\n",
       "1       2.0       2.5       4.9       6.7         2\n",
       "2       1.8       NaN       5.3       NaN         3\n",
       "3       NaN       2.9       4.7       6.4         2\n",
       "4       2.2       3.6       5.0       6.1         1\n",
       "5       3.7       4.2       5.2       7.0         2\n",
       "6       4.1       4.8       6.2       6.1         3\n",
       "7       4.3       4.4       6.9       7.2         1\n",
       "8       3.3       4.7       5.8       7.5         2\n",
       "9       3.9       4.6       6.0       6.9         3"
      ]
     },
     "execution_count": 248,
     "metadata": {},
     "output_type": "execute_result"
    }
   ],
   "source": [
    "data"
   ]
  },
  {
   "cell_type": "code",
   "execution_count": 251,
   "metadata": {
    "scrolled": true
   },
   "outputs": [
    {
     "name": "stdout",
     "output_type": "stream",
     "text": [
      "[[1.5, 3.2, 5.1, 6.5, 1.0], [2.0, 2.5, 4.9, 6.7, 2.0], [1.8, nan, 5.3, nan, 3.0], [nan, 2.9, 4.7, 6.4, 2.0], [2.2, 3.6, 5.0, 6.1, 1.0], [3.7, 4.2, 5.2, 7.0, 2.0], [4.1, 4.8, 6.2, 6.1, 3.0], [4.3, 4.4, 6.9, 7.2, 1.0], [3.3, 4.7, 5.8, 7.5, 2.0], [3.9, 4.6, 6.0, 6.9, 3.0]]\n",
      "[[-1.6194427  -1.03931168 -0.81276877 -0.53300179 -1.12089708]\n",
      " [-1.12115264 -1.94870941 -1.11519436 -0.10660036  0.16012815]\n",
      " [-0.92183661 -0.51965584 -0.96398156 -1.38580466 -1.12089708]\n",
      " [ 0.57303357  0.25982792 -0.66155597  0.53300179  0.16012815]\n",
      " [ 0.97166562  1.03931168  0.85057197 -1.38580466  1.44115338]\n",
      " [ 1.17098165  0.51965584  1.90906152  0.95940322 -1.12089708]\n",
      " [ 0.17440152  0.90939772  0.24572079  1.59900537  0.16012815]\n",
      " [ 0.7723496   0.77948376  0.54814638  0.31980107  1.44115338]]\n",
      "[[-1.32046866         nan -0.51034318         nan  1.44115338]\n",
      " [        nan -1.42905357 -1.41761994 -0.74620251  0.16012815]]\n",
      "[[[1.8, nan, 5.3, nan, 3.0], 3, 1.4305933955406143, 1], [[nan, 2.9, 4.7, 6.4, 2.0], 4, 0.8778350296835421, 1]]\n"
     ]
    },
    {
     "data": {
      "text/html": [
       "<div>\n",
       "<style scoped>\n",
       "    .dataframe tbody tr th:only-of-type {\n",
       "        vertical-align: middle;\n",
       "    }\n",
       "\n",
       "    .dataframe tbody tr th {\n",
       "        vertical-align: top;\n",
       "    }\n",
       "\n",
       "    .dataframe thead th {\n",
       "        text-align: right;\n",
       "    }\n",
       "</style>\n",
       "<table border=\"1\" class=\"dataframe\">\n",
       "  <thead>\n",
       "    <tr style=\"text-align: right;\">\n",
       "      <th></th>\n",
       "      <th>ind</th>\n",
       "      <th>n_features</th>\n",
       "      <th>distances</th>\n",
       "      <th>nn</th>\n",
       "    </tr>\n",
       "  </thead>\n",
       "  <tbody>\n",
       "    <tr>\n",
       "      <th>0</th>\n",
       "      <td>[1.8, nan, 5.3, nan, 3.0]</td>\n",
       "      <td>3</td>\n",
       "      <td>1.430593</td>\n",
       "      <td>1</td>\n",
       "    </tr>\n",
       "    <tr>\n",
       "      <th>1</th>\n",
       "      <td>[nan, 2.9, 4.7, 6.4, 2.0]</td>\n",
       "      <td>4</td>\n",
       "      <td>0.877835</td>\n",
       "      <td>1</td>\n",
       "    </tr>\n",
       "  </tbody>\n",
       "</table>\n",
       "</div>"
      ],
      "text/plain": [
       "                         ind  n_features  distances  nn\n",
       "0  [1.8, nan, 5.3, nan, 3.0]           3   1.430593   1\n",
       "1  [nan, 2.9, 4.7, 6.4, 2.0]           4   0.877835   1"
      ]
     },
     "execution_count": 251,
     "metadata": {},
     "output_type": "execute_result"
    }
   ],
   "source": [
    "simulate_missing(data)"
   ]
  },
  {
   "cell_type": "code",
   "execution_count": 19,
   "metadata": {},
   "outputs": [],
   "source": [
    "import pandas as pd\n",
    "import numpy as np\n",
    "import torch\n",
    "#import torch.nn as nn\n",
    "from sklearn.preprocessing import StandardScaler\n",
    "from sklearn.neighbors import NearestNeighbors\n",
    "\n",
    "def simulate_missing(df, method=\"nearest-neighbors\"):\n",
    "    def filter_missing(df, axis='rows'):\n",
    "        if axis == 'rows':\n",
    "            df = df.dropna(axis=0)\n",
    "            return df\n",
    "        elif axis in ('columns', 'cols'):\n",
    "            df = df.dropna(axis=1)    \n",
    "            return df\n",
    "        else:\n",
    "            raise ValueError(f\"Invalid axis option '{axis}'. Please choose 'rows' or 'columns'.\")\n",
    "\n",
    "    def collect_missing(df):\n",
    "        df = df[df.isna().any(axis=1)]\n",
    "        return df\n",
    "    \n",
    "    def determine_missing_proportions(df):\n",
    "        f = []; p = []\n",
    "        for col in df.columns:\n",
    "            f.append(col)\n",
    "            p.append(df[col].isna().sum()/len(df))\n",
    "        d = dict(zip(f, p))\n",
    "        return d\n",
    "        \n",
    "    nm = filter_missing(df)\n",
    "    cm = collect_missing(df)\n",
    "    mp = determine_missing_proportions(df)\n",
    "    \n",
    "    if method == \"nearest-neighbors\":\n",
    "        scaler = StandardScaler()\n",
    "        \n",
    "        nm = pd.DataFrame(scaler.fit_transform(nm), index=nm.index)\n",
    "        cm = pd.DataFrame(scaler.transform(cm), index=cm.index)\n",
    "        \n",
    "        counter_dict = dict(zip(cm.index, np.repeat(1, len(cm.index))))\n",
    "        n_feat = []; distance_list = []; neighbor_list = []\n",
    "\n",
    "        nm_tensor = torch.tensor(nm[list(pd.DataFrame(cm).columns)].values)\n",
    "        cm_tensor = torch.tensor(cm.values)\n",
    "\n",
    "        for i in range(cm.shape[0]):\n",
    "            ind = cm.index[i]\n",
    "            mask = ~torch.isnan(cm_tensor[i])\n",
    "            n_feat.append(torch.count_nonzero(mask))\n",
    "\n",
    "            nm_filtered = nm_tensor[:, mask]\n",
    "            cm_filtered = cm_tensor[i, mask].unsqueeze(1)\n",
    "\n",
    "            nbrs = NearestNeighbors(n_neighbors=1).fit(nm_filtered)\n",
    "            distances, indices = nbrs.kneighbors(cm_filtered.T)\n",
    "\n",
    "            distance_list.append(distances.ravel()[0])\n",
    "            neighbor_list.append(indices.ravel()[0])\n",
    "\n",
    "    results = pd.DataFrame([cm.index, n_feat, distance_list, neighbor_list]).T\n",
    "    results.columns = [\"ind\", \"n_features\", \"distances\", \"nn\"]\n",
    "\n",
    "    print(results)\n",
    "    if len(results[results.duplicated('nn', keep=False)]['nn'].tolist()) == len(set(results[results.duplicated('nn', keep=False)]['nn'].tolist())):\n",
    "        print(\"generate_simulated\")\n",
    "    else:\n",
    "        for item in set(results[results.duplicated('nn', keep=False)]['nn'].tolist()):\n",
    "            min_n_features = torch.min(torch.tensor(results[results['nn'] == item]['n_features'].tolist()))\n",
    "            for ind in results[results['n_features'] == min_n_features]['ind']:\n",
    "                counter_dict[ind] = counter_dict[ind] + 1\n",
    "\n",
    "                mask = ~torch.isnan(cm_tensor[i])\n",
    "                nm_filtered = nm_tensor[:, mask]\n",
    "                cm_filtered = cm_tensor[i, mask].unsqueeze(1)\n",
    "\n",
    "                nbrs = NearestNeighbors(n_neighbors=counter_dict[ind]).fit(nm_filtered)\n",
    "                distances, indices = nbrs.kneighbors(cm_filtered.T)\n",
    "\n",
    "                dist = distances.ravel()[counter_dict[ind]-1]\n",
    "                neighbor = indices.ravel()[counter_dict[ind]-1]\n",
    "\n",
    "                # Use .iloc to update the values in the 'results' DataFrame\n",
    "                results.loc[results['ind'] == ind, 'distances'] = dist\n",
    "                results.loc[results['ind'] == ind, 'nn'] = neighbor\n",
    "    \n",
    "    return results\n"
   ]
  },
  {
   "cell_type": "code",
   "execution_count": 20,
   "metadata": {},
   "outputs": [
    {
     "name": "stdout",
     "output_type": "stream",
     "text": [
      "  ind n_features distances nn\n",
      "0   2  tensor(3)  1.430593  1\n",
      "1   3  tensor(4)  0.877835  1\n",
      "CPU times: user 25.6 ms, sys: 435 µs, total: 26 ms\n",
      "Wall time: 25 ms\n"
     ]
    },
    {
     "data": {
      "text/html": [
       "<div>\n",
       "<style scoped>\n",
       "    .dataframe tbody tr th:only-of-type {\n",
       "        vertical-align: middle;\n",
       "    }\n",
       "\n",
       "    .dataframe tbody tr th {\n",
       "        vertical-align: top;\n",
       "    }\n",
       "\n",
       "    .dataframe thead th {\n",
       "        text-align: right;\n",
       "    }\n",
       "</style>\n",
       "<table border=\"1\" class=\"dataframe\">\n",
       "  <thead>\n",
       "    <tr style=\"text-align: right;\">\n",
       "      <th></th>\n",
       "      <th>ind</th>\n",
       "      <th>n_features</th>\n",
       "      <th>distances</th>\n",
       "      <th>nn</th>\n",
       "    </tr>\n",
       "  </thead>\n",
       "  <tbody>\n",
       "    <tr>\n",
       "      <th>0</th>\n",
       "      <td>2</td>\n",
       "      <td>tensor(3)</td>\n",
       "      <td>1.484663</td>\n",
       "      <td>0</td>\n",
       "    </tr>\n",
       "    <tr>\n",
       "      <th>1</th>\n",
       "      <td>3</td>\n",
       "      <td>tensor(4)</td>\n",
       "      <td>0.877835</td>\n",
       "      <td>1</td>\n",
       "    </tr>\n",
       "  </tbody>\n",
       "</table>\n",
       "</div>"
      ],
      "text/plain": [
       "  ind n_features distances nn\n",
       "0   2  tensor(3)  1.484663  0\n",
       "1   3  tensor(4)  0.877835  1"
      ]
     },
     "execution_count": 20,
     "metadata": {},
     "output_type": "execute_result"
    }
   ],
   "source": [
    "%%time\n",
    "simulate_missing(data)"
   ]
  }
 ],
 "metadata": {
  "kernelspec": {
   "display_name": "Python 3 (ipykernel)",
   "language": "python",
   "name": "python3"
  },
  "language_info": {
   "codemirror_mode": {
    "name": "ipython",
    "version": 3
   },
   "file_extension": ".py",
   "mimetype": "text/x-python",
   "name": "python",
   "nbconvert_exporter": "python",
   "pygments_lexer": "ipython3",
   "version": "3.10.12"
  }
 },
 "nbformat": 4,
 "nbformat_minor": 4
}
