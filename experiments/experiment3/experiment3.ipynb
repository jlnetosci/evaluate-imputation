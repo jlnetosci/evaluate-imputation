{
 "cells": [
  {
   "cell_type": "code",
   "execution_count": 1,
   "metadata": {},
   "outputs": [],
   "source": [
    "import numpy as np\n",
    "import pandas as pd\n",
    "from itertools import combinations\n",
    "from sklearn.preprocessing import StandardScaler\n",
    "from sklearn.neighbors import NearestNeighbors\n",
    "from tqdm.notebook import tqdm"
   ]
  },
  {
   "cell_type": "code",
   "execution_count": 2,
   "metadata": {},
   "outputs": [],
   "source": [
    "# Set random seed for reproducibility (optional)\n",
    "np.random.seed(42)\n",
    "\n",
    "# Generate synthetic dataset\n",
    "num_samples = 100\n",
    "num_features = 10\n",
    "\n",
    "# Define the range for the random values\n",
    "low = 0\n",
    "high = 100\n",
    "\n",
    "# Create a dictionary to store the data\n",
    "data = {}\n",
    "for feature_num in range(1, num_features + 1):\n",
    "    data[f'Feature{feature_num}'] = np.random.uniform(low, high, num_samples)\n",
    "\n",
    "# Convert the dictionary to a DataFrame\n",
    "syn = pd.DataFrame(data)\n",
    "\n",
    "# Display the first few rows of the dataframe\n",
    "#print(df.head())\n",
    "\n",
    "#syn = syn[syn.columns[0:10]]"
   ]
  },
  {
   "cell_type": "code",
   "execution_count": 3,
   "metadata": {
    "scrolled": true
   },
   "outputs": [
    {
     "data": {
      "application/vnd.jupyter.widget-view+json": {
       "model_id": "236331646f994f1d8f27161d0623d0fc",
       "version_major": 2,
       "version_minor": 0
      },
      "text/plain": [
       "  0%|          | 0/1000 [00:00<?, ?it/s]"
      ]
     },
     "metadata": {},
     "output_type": "display_data"
    }
   ],
   "source": [
    "d = {}\n",
    "\n",
    "num_samples = 1\n",
    "num_features = 10\n",
    "\n",
    "low = 0\n",
    "high = 100\n",
    "\n",
    "combs = []\n",
    "for i in range(len(syn) + 1):\n",
    "    combs += [list(comb) for comb in combinations(syn, i)]\n",
    "combs = [comb for comb in combs if len(comb) >= 1]\n",
    "\n",
    "for seed in tqdm(range(0, 1000)):\n",
    "    # Set random seed for reproducibility (optional)\n",
    "    np.random.seed(seed)\n",
    "        \n",
    "    # Create a dictionary to store the data\n",
    "    data = {}\n",
    "    for feature_num in range(1, num_features + 1):\n",
    "        data[f'Feature{feature_num}'] = np.random.uniform(low, high, num_samples)\n",
    "    \n",
    "    # Convert the dictionary to a DataFrame\n",
    "    query = pd.DataFrame(data)\n",
    "    \n",
    "    # Display the first few rows of the dataframe\n",
    "    #print(df.head())\n",
    "    \n",
    "    #query = query[query.columns[0:10]]\n",
    "\n",
    "    scaler = StandardScaler()\n",
    "    scaled_syn = pd.DataFrame(scaler.fit_transform(syn), columns=syn.columns)\n",
    "    scaled_query = pd.DataFrame(scaler.transform(query), columns=query.columns)\n",
    "    \n",
    "    length_list = []; nn_list = []; distance_list = []\n",
    "    \n",
    "    for comb in combs:\n",
    "        length_list.append(len(comb))\n",
    "        # Create a NearestNeighbors object and fit the data\n",
    "        nbrs = NearestNeighbors(n_neighbors=1).fit(scaled_syn[comb])\n",
    "    \n",
    "        # Find the nearest neighbor\n",
    "        distances, indices = nbrs.kneighbors(scaled_query[comb])\n",
    "    \n",
    "        # Print the nearest neighbor's index and distance\n",
    "        nn_list.append(indices[0][0])\n",
    "        distance_list.append(distances[0][0])\n",
    "\n",
    "    experiment = {\n",
    "        'n_features': length_list,\n",
    "        'index': nn_list,\n",
    "        'distance': distance_list\n",
    "    }\n",
    "    \n",
    "    var = pd.DataFrame(experiment)\n",
    "\n",
    "    d[\"df\" + str(seed)] = var.copy()    \n",
    "    #print(experiment1)\n",
    "    #experiment.to_csv(\"experiment2_seed\" + str(seed) + \".csv\")"
   ]
  },
  {
   "cell_type": "code",
   "execution_count": 4,
   "metadata": {},
   "outputs": [],
   "source": [
    "import pickle\n",
    "\n",
    "# Pickle the dictionary and save it to a file\n",
    "with open('data_frames.obj', 'wb') as f:\n",
    "    pickle.dump(d, f)"
   ]
  }
 ],
 "metadata": {
  "kernelspec": {
   "display_name": "Python 3 (ipykernel)",
   "language": "python",
   "name": "python3"
  },
  "language_info": {
   "codemirror_mode": {
    "name": "ipython",
    "version": 3
   },
   "file_extension": ".py",
   "mimetype": "text/x-python",
   "name": "python",
   "nbconvert_exporter": "python",
   "pygments_lexer": "ipython3",
   "version": "3.10.6"
  }
 },
 "nbformat": 4,
 "nbformat_minor": 4
}
